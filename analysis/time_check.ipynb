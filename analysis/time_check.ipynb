{
 "metadata": {
  "language_info": {
   "codemirror_mode": {
    "name": "ipython",
    "version": 3
   },
   "file_extension": ".py",
   "mimetype": "text/x-python",
   "name": "python",
   "nbconvert_exporter": "python",
   "pygments_lexer": "ipython3",
   "version": "3.9.1"
  },
  "orig_nbformat": 2,
  "kernelspec": {
   "name": "python3",
   "display_name": "Python 3.9.1 64-bit",
   "metadata": {
    "interpreter": {
     "hash": "aee8b7b246df8f9039afb4144a1f6fd8d2ca17a180786b69acc140d282b71a49"
    }
   }
  }
 },
 "nbformat": 4,
 "nbformat_minor": 2,
 "cells": [
  {
   "cell_type": "code",
   "execution_count": 1,
   "metadata": {},
   "outputs": [],
   "source": [
    "import datetime\n",
    "import time"
   ]
  },
  {
   "cell_type": "code",
   "execution_count": 2,
   "metadata": {},
   "outputs": [
    {
     "output_type": "stream",
     "name": "stdout",
     "text": [
      "2021-04-05\n2021-04-04\n"
     ]
    }
   ],
   "source": [
    "# 今日の日付を取得\n",
    "today = datetime.date.today()\n",
    "print(today)\n",
    "# 昨日の日付を取得\n",
    "yesterday = today - datetime.timedelta(days = 1)\n",
    "print(yesterday)"
   ]
  },
  {
   "cell_type": "code",
   "execution_count": 3,
   "metadata": {},
   "outputs": [
    {
     "output_type": "stream",
     "name": "stdout",
     "text": [
      "2021-04-05 00:00:00\n2021-04-04 00:00:00\n"
     ]
    }
   ],
   "source": [
    "# 日付の型と時刻の型を組み合わせる\n",
    "# 今日\n",
    "today = datetime.datetime.combine(today, datetime.time(0, 0, 0))\n",
    "print(today)\n",
    "# 昨日\n",
    "yesterday = datetime.datetime.combine(today - datetime.timedelta(days = 1), datetime.time(0, 0, 0))\n",
    "print(yesterday)"
   ]
  },
  {
   "cell_type": "code",
   "execution_count": 4,
   "metadata": {},
   "outputs": [
    {
     "output_type": "stream",
     "name": "stdout",
     "text": [
      "1617548400\n1617462000\n"
     ]
    }
   ],
   "source": [
    "# UTCに変換\n",
    "t_timestamp =  time.mktime(today.timetuple())\n",
    "print(int(t_timestamp))\n",
    "\n",
    "y_timestamp = time.mktime(yesterday.timetuple())\n",
    "print(int(y_timestamp)) # return"
   ]
  },
  {
   "cell_type": "code",
   "execution_count": 5,
   "metadata": {},
   "outputs": [
    {
     "output_type": "stream",
     "name": "stdout",
     "text": [
      "1617634799\n"
     ]
    }
   ],
   "source": [
    "from_ts = int(t_timestamp)\n",
    "\n",
    "to_ts = from_ts + (60 * 60 * 24) - 1\n",
    "print(to_ts)"
   ]
  },
  {
   "cell_type": "code",
   "execution_count": 6,
   "metadata": {},
   "outputs": [
    {
     "output_type": "stream",
     "name": "stdout",
     "text": [
      "Timestamp: from_ts 1617548400, to_ts 1617634799\n2021-04-05 00:00:00\n2021-04-05 23:59:59\n"
     ]
    }
   ],
   "source": [
    "# 前日の 00:00:00 〜 23:59:59 までを指定\n",
    "print('Timestamp: from_ts %s, to_ts %s' % (from_ts, to_ts))\n",
    "\n",
    "# 一様datetimeで確認\n",
    "f_dt = datetime.datetime.fromtimestamp(from_ts)\n",
    "print(f_dt)\n",
    "t_dt = datetime.datetime.fromtimestamp(to_ts)\n",
    "print(t_dt)"
   ]
  },
  {
   "cell_type": "code",
   "execution_count": 7,
   "metadata": {},
   "outputs": [
    {
     "output_type": "stream",
     "name": "stdout",
     "text": [
      "2021-04-05 00:00:00\n1617548400\n"
     ]
    }
   ],
   "source": [
    "today_s = datetime.datetime.combine(today, datetime.time(0, 0, 0))\n",
    "print(today_s)\n",
    "start = time.mktime(today.timetuple())\n",
    "print(int(start))"
   ]
  },
  {
   "cell_type": "code",
   "execution_count": 8,
   "metadata": {},
   "outputs": [
    {
     "output_type": "stream",
     "name": "stdout",
     "text": [
      "1617634799.0\n",
      "2021-04-05 23:59:59\n"
     ]
    }
   ],
   "source": [
    "end = start + (60 * 60 * 24) - 1\n",
    "print(end)\n",
    "today_e= datetime.datetime.fromtimestamp(end)\n",
    "print(today_e)"
   ]
  },
  {
   "cell_type": "code",
   "execution_count": 9,
   "metadata": {},
   "outputs": [
    {
     "output_type": "stream",
     "name": "stdout",
     "text": [
      "2021-04-04 02:24:26\n"
     ]
    }
   ],
   "source": [
    "created_0 = datetime.datetime.fromtimestamp(int(str(1617470666457)[:10]))\n",
    "print(created_0)\n",
    "## 1617470666457"
   ]
  },
  {
   "cell_type": "code",
   "execution_count": 10,
   "metadata": {},
   "outputs": [
    {
     "output_type": "stream",
     "name": "stdout",
     "text": [
      "2021-04-04 02:24:26\n"
     ]
    }
   ],
   "source": [
    "created_1 = datetime.datetime.fromtimestamp(int(str(1617470666)))\n",
    "print(created_1)"
   ]
  },
  {
   "cell_type": "code",
   "execution_count": 11,
   "metadata": {},
   "outputs": [
    {
     "output_type": "stream",
     "name": "stdout",
     "text": [
      "1617470666\n"
     ]
    }
   ],
   "source": [
    "hoge = str(1617470666457)[:10]\n",
    "print(hoge)"
   ]
  },
  {
   "cell_type": "code",
   "execution_count": 12,
   "metadata": {},
   "outputs": [
    {
     "output_type": "stream",
     "name": "stdout",
     "text": [
      "2021-04-04 02:24:26\n2021-04-04 02:24:27\n2021-04-05 05:03:44\n2021-04-05 05:17:21\n"
     ]
    }
   ],
   "source": [
    "time = 1617470666457\n",
    "created = datetime.datetime.fromtimestamp(int(str(time)[:10]))\n",
    "print(created)\n",
    "\n",
    "time = 1617470667426\n",
    "created = datetime.datetime.fromtimestamp(int(str(time)[:10]))\n",
    "print(created)\n",
    "\n",
    "time = 1617566624780\n",
    "created = datetime.datetime.fromtimestamp(int(str(time)[:10]))\n",
    "print(created)\n",
    "\n",
    "time = 1617567441470\n",
    "created = datetime.datetime.fromtimestamp(int(str(time)[:10]))\n",
    "print(created)"
   ]
  }
 ]
}