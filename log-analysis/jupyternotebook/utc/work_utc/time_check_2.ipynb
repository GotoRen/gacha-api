{
 "cells": [
  {
   "cell_type": "code",
   "execution_count": 1,
   "id": "4d910548",
   "metadata": {},
   "outputs": [],
   "source": [
    "import datetime\n",
    "import time"
   ]
  },
  {
   "cell_type": "code",
   "execution_count": 2,
   "id": "290c1028",
   "metadata": {},
   "outputs": [
    {
     "name": "stdout",
     "output_type": "stream",
     "text": [
      "1617753600\n",
      "2021-04-07 00:00:00\n",
      "1617839999\n",
      "2021-04-07 23:59:59\n"
     ]
    }
   ],
   "source": [
    "## 今日中のログをテスト\n",
    "from_ts = time.mktime(datetime.date.today().timetuple())\n",
    "print(int(from_ts))\n",
    "\n",
    "from_time = datetime.datetime.fromtimestamp(from_ts)\n",
    "print(from_time)\n",
    "\n",
    "########################\n",
    "\n",
    "to_ts = int(from_ts) + (60 * 60 * 24) - 1\n",
    "print(to_ts)\n",
    "\n",
    "to_time = datetime.datetime.fromtimestamp(to_ts)\n",
    "print(to_time)"
   ]
  },
  {
   "cell_type": "code",
   "execution_count": 3,
   "id": "4c774235",
   "metadata": {},
   "outputs": [
    {
     "name": "stdout",
     "output_type": "stream",
     "text": [
      "1617667200\n",
      "2021-04-06 00:00:00\n",
      "1617753599\n",
      "2021-04-06 23:59:59\n"
     ]
    }
   ],
   "source": [
    "## 昨日中のログをテスト\n",
    "today = datetime.date.today()\n",
    "yesterday = datetime.datetime.combine(today - datetime.timedelta(days = 1), datetime.time(0, 0, 0))\n",
    "timestamp = time.mktime(yesterday.timetuple())\n",
    "from_ts = int(timestamp)\n",
    "print(from_ts)\n",
    "\n",
    "from_time = datetime.datetime.fromtimestamp(from_ts)\n",
    "print(from_time)\n",
    "\n",
    "########################\n",
    "\n",
    "to_ts = from_ts + (60 * 60 * 24) - 1\n",
    "print(to_ts)\n",
    "\n",
    "to_time = datetime.datetime.fromtimestamp(to_ts)\n",
    "print(to_time)"
   ]
  },
  {
   "cell_type": "code",
   "execution_count": 4,
   "id": "a73b385e",
   "metadata": {},
   "outputs": [
    {
     "name": "stdout",
     "output_type": "stream",
     "text": [
      "2021-04-05 00:00:00\n",
      "2021-04-05 23:59:59\n"
     ]
    }
   ],
   "source": [
    "from_ts = 1617580800\n",
    "to_ts   = 1617667199\n",
    "\n",
    "print(datetime.datetime.fromtimestamp(from_ts))\n",
    "print(datetime.datetime.fromtimestamp(to_ts))"
   ]
  },
  {
   "cell_type": "code",
   "execution_count": 5,
   "id": "6b1f641c",
   "metadata": {},
   "outputs": [
    {
     "name": "stdout",
     "output_type": "stream",
     "text": [
      "1617667200\n",
      "2021-04-06 00:00:00\n",
      "1617753599\n",
      "2021-04-06 23:59:59\n"
     ]
    }
   ],
   "source": [
    "def get_from_ts():\n",
    "    #from_ts = time.mktime(datetime.date.today().timetuple())\n",
    "    #return int(from_ts)\n",
    "\n",
    "    today = datetime.date.today()\n",
    "    yesterday = datetime.datetime.combine(today - datetime.timedelta(days = 1), datetime.time(0, 0, 0))\n",
    "    timestamp = time.mktime(yesterday.timetuple())\n",
    "    return int(timestamp)\n",
    "    \n",
    "def get_to_ts(from_ts):\n",
    "    #to_ts = int(from_ts) + (60 * 60 * 24) - 1\n",
    "    #return int(to_ts)\n",
    "\n",
    "    to_ts = from_ts + (60 * 60 * 24) - 1\n",
    "    return to_ts\n",
    "\n",
    "from_ts = get_from_ts()\n",
    "print(from_ts)\n",
    "print(datetime.datetime.fromtimestamp(from_ts))\n",
    "\n",
    "to_ts = get_to_ts(from_ts)\n",
    "print(to_ts)\n",
    "\n",
    "\n",
    "print(datetime.datetime.fromtimestamp(to_ts))"
   ]
  },
  {
   "cell_type": "code",
   "execution_count": 6,
   "id": "8e45fc4c",
   "metadata": {},
   "outputs": [
    {
     "name": "stdout",
     "output_type": "stream",
     "text": [
      "2021-04-07\n"
     ]
    }
   ],
   "source": [
    "today = datetime.date.today()\n",
    "print(today)"
   ]
  },
  {
   "cell_type": "code",
   "execution_count": 8,
   "id": "d4b9866f",
   "metadata": {},
   "outputs": [
    {
     "name": "stdout",
     "output_type": "stream",
     "text": [
      "2021-04-06 00:00:00\n",
      "1617667200\n",
      "1617753599\n",
      "2021-04-06 23:59:59\n"
     ]
    }
   ],
   "source": [
    "import datetime\n",
    "import pytz\n",
    "from datetime import date\n",
    "import time\n",
    "\n",
    "jst_now = datetime.datetime.now(pytz.timezone('Asia/Tokyo'))\n",
    "jst_today = datetime.datetime.combine(jst_now, datetime.time(0, 0, 0))\n",
    "jst_yesterday = datetime.datetime.combine(jst_today - datetime.timedelta(days = 1), datetime.time(0, 0, 0))\n",
    "print(jst_yesterday)\n",
    "\n",
    "\n",
    "from_ts = int(time.mktime(jst_yesterday.timetuple()))\n",
    "print(from_ts)\n",
    "\n",
    "to_ts = from_ts + (60 * 60 * 24) - 1\n",
    "print(to_ts)\n",
    "print(datetime.datetime.fromtimestamp(to_ts))"
   ]
  },
  {
   "cell_type": "code",
   "execution_count": null,
   "id": "80dc0992",
   "metadata": {},
   "outputs": [],
   "source": []
  }
 ],
 "metadata": {
  "kernelspec": {
   "display_name": "Python 3",
   "language": "python",
   "name": "python3"
  },
  "language_info": {
   "codemirror_mode": {
    "name": "ipython",
    "version": 3
   },
   "file_extension": ".py",
   "mimetype": "text/x-python",
   "name": "python",
   "nbconvert_exporter": "python",
   "pygments_lexer": "ipython3",
   "version": "3.9.0"
  }
 },
 "nbformat": 4,
 "nbformat_minor": 5
}
