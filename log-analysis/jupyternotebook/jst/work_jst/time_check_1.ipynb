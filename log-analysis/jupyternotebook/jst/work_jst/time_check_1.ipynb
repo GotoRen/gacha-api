{
 "cells": [
  {
   "cell_type": "code",
   "execution_count": 13,
   "id": "c4e9cafc",
   "metadata": {},
   "outputs": [],
   "source": [
    "import datetime\n",
    "import time\n",
    "import os\n",
    "from time import mktime as mktime"
   ]
  },
  {
   "cell_type": "code",
   "execution_count": 2,
   "id": "3ea3a25e",
   "metadata": {},
   "outputs": [
    {
     "name": "stdout",
     "output_type": "stream",
     "text": [
      "2021-04-07\n",
      "2021-04-06\n"
     ]
    }
   ],
   "source": [
    "# 今日の日付を取得\n",
    "today = datetime.date.today()\n",
    "print(today)\n",
    "# 昨日の日付を取得\n",
    "yesterday = today - datetime.timedelta(days = 1)\n",
    "print(yesterday)"
   ]
  },
  {
   "cell_type": "code",
   "execution_count": 3,
   "id": "8d2dfe43",
   "metadata": {},
   "outputs": [
    {
     "name": "stdout",
     "output_type": "stream",
     "text": [
      "2021-04-07 00:00:00\n",
      "2021-04-06 00:00:00\n"
     ]
    }
   ],
   "source": [
    "# 日付の型と時刻の型を組み合わせる\n",
    "# 今日\n",
    "today = datetime.datetime.combine(today, datetime.time(0, 0, 0))\n",
    "print(today)\n",
    "# 昨日\n",
    "yesterday = datetime.datetime.combine(today - datetime.timedelta(days = 1), datetime.time(0, 0, 0))\n",
    "print(yesterday)"
   ]
  },
  {
   "cell_type": "code",
   "execution_count": 4,
   "id": "4a19c459",
   "metadata": {},
   "outputs": [
    {
     "name": "stdout",
     "output_type": "stream",
     "text": [
      "1617721200\n",
      "1617634800\n"
     ]
    }
   ],
   "source": [
    "# UTCに変換\n",
    "t_timestamp =  time.mktime(today.timetuple())\n",
    "print(int(t_timestamp))\n",
    "\n",
    "y_timestamp = time.mktime(yesterday.timetuple())\n",
    "print(int(y_timestamp)) # return"
   ]
  },
  {
   "cell_type": "code",
   "execution_count": 5,
   "id": "b146d23a",
   "metadata": {},
   "outputs": [
    {
     "name": "stdout",
     "output_type": "stream",
     "text": [
      "1617807599\n"
     ]
    }
   ],
   "source": [
    "from_ts = int(t_timestamp)\n",
    "\n",
    "to_ts = from_ts + (60 * 60 * 24) - 1\n",
    "print(to_ts)"
   ]
  },
  {
   "cell_type": "code",
   "execution_count": 6,
   "id": "855f3390",
   "metadata": {},
   "outputs": [
    {
     "name": "stdout",
     "output_type": "stream",
     "text": [
      "Timestamp: from_ts 1617721200, to_ts 1617807599\n",
      "2021-04-07 00:00:00\n",
      "2021-04-07 23:59:59\n"
     ]
    }
   ],
   "source": [
    "# 前日の 00:00:00 〜 23:59:59 までを指定\n",
    "print('Timestamp: from_ts %s, to_ts %s' % (from_ts, to_ts))\n",
    "\n",
    "# 一様datetimeで確認\n",
    "f_dt = datetime.datetime.fromtimestamp(from_ts)\n",
    "print(f_dt)\n",
    "t_dt = datetime.datetime.fromtimestamp(to_ts)\n",
    "print(t_dt)"
   ]
  },
  {
   "cell_type": "code",
   "execution_count": 7,
   "id": "9dc015df",
   "metadata": {},
   "outputs": [
    {
     "name": "stdout",
     "output_type": "stream",
     "text": [
      "2021-04-07 00:00:00\n",
      "1617721200\n"
     ]
    }
   ],
   "source": [
    "today_s = datetime.datetime.combine(today, datetime.time(0, 0, 0))\n",
    "print(today_s)\n",
    "start = time.mktime(today.timetuple())\n",
    "print(int(start))"
   ]
  },
  {
   "cell_type": "code",
   "execution_count": 8,
   "id": "4a43063d",
   "metadata": {},
   "outputs": [
    {
     "name": "stdout",
     "output_type": "stream",
     "text": [
      "1617807599.0\n",
      "2021-04-07 23:59:59\n"
     ]
    }
   ],
   "source": [
    "end = start + (60 * 60 * 24) - 1\n",
    "print(end)\n",
    "today_e= datetime.datetime.fromtimestamp(end)\n",
    "print(today_e)"
   ]
  },
  {
   "cell_type": "code",
   "execution_count": 9,
   "id": "89aec551",
   "metadata": {},
   "outputs": [
    {
     "name": "stdout",
     "output_type": "stream",
     "text": [
      "2021-04-04 02:24:26\n"
     ]
    }
   ],
   "source": [
    "created_0 = datetime.datetime.fromtimestamp(int(str(1617470666457)[:10]))\n",
    "print(created_0)\n",
    "## 1617470666457"
   ]
  },
  {
   "cell_type": "code",
   "execution_count": 10,
   "id": "8615300c",
   "metadata": {},
   "outputs": [
    {
     "name": "stdout",
     "output_type": "stream",
     "text": [
      "2021-04-04 02:24:26\n"
     ]
    }
   ],
   "source": [
    "created_1 = datetime.datetime.fromtimestamp(int(str(1617470666)))\n",
    "print(created_1)"
   ]
  },
  {
   "cell_type": "code",
   "execution_count": 11,
   "id": "2f5887b1",
   "metadata": {},
   "outputs": [
    {
     "name": "stdout",
     "output_type": "stream",
     "text": [
      "2021-04-04 02:24:26\n",
      "2021-04-04 02:24:27\n",
      "2021-04-05 05:03:44\n",
      "2021-04-05 05:17:21\n"
     ]
    }
   ],
   "source": [
    "time = 1617470666457\n",
    "created = datetime.datetime.fromtimestamp(int(str(time)[:10]))\n",
    "print(created)\n",
    "\n",
    "time = 1617470667426\n",
    "created = datetime.datetime.fromtimestamp(int(str(time)[:10]))\n",
    "print(created)\n",
    "\n",
    "time = 1617566624780\n",
    "created = datetime.datetime.fromtimestamp(int(str(time)[:10]))\n",
    "print(created)\n",
    "\n",
    "time = 1617567441470\n",
    "created = datetime.datetime.fromtimestamp(int(str(time)[:10]))\n",
    "print(created)"
   ]
  },
  {
   "cell_type": "code",
   "execution_count": 14,
   "id": "c0834f65",
   "metadata": {},
   "outputs": [
    {
     "name": "stdout",
     "output_type": "stream",
     "text": [
      "<class 'datetime.datetime'>\n",
      "<class 'float'>\n",
      "1617634800\n"
     ]
    }
   ],
   "source": [
    "today = datetime.date.today()\n",
    "yesterday = datetime.datetime.combine(today - datetime.timedelta(days = 1), datetime.time(0, 0, 0))\n",
    "print(type(yesterday))\n",
    "timestamp = time.mktime(yesterday.timetuple())\n",
    "print(type(timestamp))\n",
    "print(int(timestamp))"
   ]
  },
  {
   "cell_type": "code",
   "execution_count": 15,
   "id": "55bdc9ca",
   "metadata": {},
   "outputs": [
    {
     "name": "stdout",
     "output_type": "stream",
     "text": [
      "1617721200.0\n",
      "2021-04-07 00:00:00\n",
      "1617807599\n",
      "2021-04-07 23:59:59\n"
     ]
    }
   ],
   "source": [
    "# 1617548400\n",
    "today = datetime.datetime.combine(today, datetime.time(0, 0, 0))\n",
    "t_timestamp =  time.mktime(today.timetuple())\n",
    "print(t_timestamp)\n",
    "# 2021-04-05 00:00:00\n",
    "start = datetime.datetime.fromtimestamp(int(t_timestamp))\n",
    "print(start)    \n",
    "########################\n",
    "# 1617634799\n",
    "from_ts = int(t_timestamp)\n",
    "to_ts = from_ts + (60 * 60 * 24) - 1\n",
    "print(to_ts)\n",
    "### 2021-04-05 23:59:59\n",
    "end = datetime.datetime.fromtimestamp(to_ts)\n",
    "print(end)\n"
   ]
  },
  {
   "cell_type": "code",
   "execution_count": null,
   "id": "d95301c6",
   "metadata": {},
   "outputs": [],
   "source": []
  }
 ],
 "metadata": {
  "kernelspec": {
   "display_name": "Python 3",
   "language": "python",
   "name": "python3"
  },
  "language_info": {
   "codemirror_mode": {
    "name": "ipython",
    "version": 3
   },
   "file_extension": ".py",
   "mimetype": "text/x-python",
   "name": "python",
   "nbconvert_exporter": "python",
   "pygments_lexer": "ipython3",
   "version": "3.9.0"
  }
 },
 "nbformat": 4,
 "nbformat_minor": 5
}
